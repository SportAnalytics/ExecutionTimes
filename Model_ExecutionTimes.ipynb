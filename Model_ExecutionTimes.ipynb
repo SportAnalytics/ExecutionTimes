{
  "nbformat": 4,
  "nbformat_minor": 0,
  "metadata": {
    "colab": {
      "provenance": []
    },
    "kernelspec": {
      "name": "python3",
      "display_name": "Python 3"
    },
    "language_info": {
      "name": "python"
    }
  },
  "cells": [
    {
      "cell_type": "markdown",
      "source": [
        "# Tiempos de ejecución"
      ],
      "metadata": {
        "id": "MgmZjrI7uN1r"
      }
    },
    {
      "cell_type": "code",
      "source": [
        "url = \"https://kjnafpjozk85a3gw.us-east-1.aws.endpoints.huggingface.cloud\"\n",
        "data = {\n",
        "    \"inputs\": {\"objetivoDistancia\": \"100m\"}\n",
        "}"
      ],
      "metadata": {
        "id": "35CKuAUCvjwK"
      },
      "execution_count": null,
      "outputs": []
    },
    {
      "cell_type": "code",
      "source": [
        "import requests\n",
        "import json\n",
        "import time\n",
        "\n",
        "def call_api_and_measure_time(url, data):\n",
        "  headers = {\n",
        "      'Content-Type': 'application/json'\n",
        "      }\n",
        "  json_data = json.dumps(data)\n",
        "  start_time = time.time()\n",
        "\n",
        "  response = requests.post(url, headers=headers, data=json_data)\n",
        "\n",
        "  end_time = time.time()\n",
        "  execution_time = end_time - start_time\n",
        "\n",
        "  return response.json(), execution_time"
      ],
      "metadata": {
        "id": "LHwlD0k9vI23"
      },
      "execution_count": null,
      "outputs": []
    },
    {
      "cell_type": "markdown",
      "source": [
        "## T4"
      ],
      "metadata": {
        "id": "PlHA-to9uQm6"
      }
    },
    {
      "cell_type": "code",
      "execution_count": 1,
      "metadata": {
        "colab": {
          "base_uri": "https://localhost:8080/"
        },
        "id": "PwCw3q9Gt52D",
        "outputId": "5965a75f-733b-44bc-f0cf-d4592a1b457c"
      },
      "outputs": [
        {
          "output_type": "stream",
          "name": "stdout",
          "text": [
            "Tiempo de ejecución: 20.25 segundos\n"
          ]
        }
      ],
      "source": [
        "response, execution_time = call_api_and_measure_time(url, data)\n",
        "print(\"Tiempo de ejecución:\", execution_time, \"segundos\")"
      ]
    },
    {
      "cell_type": "markdown",
      "source": [
        "## L4"
      ],
      "metadata": {
        "id": "3q791VoFuSGB"
      }
    },
    {
      "cell_type": "code",
      "source": [
        "response, execution_time = call_api_and_measure_time(url, data)\n",
        "print(\"Tiempo de ejecución:\", execution_time, \"segundos\")"
      ],
      "metadata": {
        "colab": {
          "base_uri": "https://localhost:8080/"
        },
        "id": "cdYtyY91uUnP",
        "outputId": "fd71b54c-4737-4c4f-a5cb-28eaaab7e8fd"
      },
      "execution_count": 2,
      "outputs": [
        {
          "output_type": "stream",
          "name": "stdout",
          "text": [
            "Tiempo de ejecución: 26.18 segundos\n"
          ]
        }
      ]
    },
    {
      "cell_type": "markdown",
      "source": [
        "## A10G"
      ],
      "metadata": {
        "id": "sc3hwBDwuSao"
      }
    },
    {
      "cell_type": "code",
      "source": [
        "response, execution_time = call_api_and_measure_time(url, data)\n",
        "print(\"Tiempo de ejecución:\", execution_time, \"segundos\")"
      ],
      "metadata": {
        "colab": {
          "base_uri": "https://localhost:8080/"
        },
        "id": "1P_XiaY7uXT5",
        "outputId": "66c5102b-f001-4c63-ce79-200e9845bc5b"
      },
      "execution_count": 3,
      "outputs": [
        {
          "output_type": "stream",
          "name": "stdout",
          "text": [
            "Tiempo de ejecución: 11.75 segundos\n"
          ]
        }
      ]
    }
  ]
}